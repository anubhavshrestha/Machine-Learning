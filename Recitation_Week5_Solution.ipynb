{
  "cells": [
    {
      "cell_type": "markdown",
      "metadata": {
        "id": "view-in-github",
        "colab_type": "text"
      },
      "source": [
        "<a href=\"https://colab.research.google.com/github/anubhavshrestha/Machine-Learning/blob/main/Recitation_Week5_Solution.ipynb\" target=\"_parent\"><img src=\"https://colab.research.google.com/assets/colab-badge.svg\" alt=\"Open In Colab\"/></a>"
      ]
    },
    {
      "cell_type": "markdown",
      "id": "c5c7bdce",
      "metadata": {
        "id": "c5c7bdce"
      },
      "source": [
        "## 4.1 Import numpy as np and see the version"
      ]
    },
    {
      "cell_type": "code",
      "execution_count": null,
      "id": "50ea87bc",
      "metadata": {
        "id": "50ea87bc",
        "colab": {
          "base_uri": "https://localhost:8080/"
        },
        "outputId": "f6fec7c8-df1d-4dc0-ddd6-ccff7a0df47a"
      },
      "outputs": [
        {
          "output_type": "stream",
          "name": "stdout",
          "text": [
            "1.23.5\n"
          ]
        }
      ],
      "source": [
        "import numpy as np\n",
        "print(np.__version__)"
      ]
    },
    {
      "cell_type": "markdown",
      "source": [
        "## 4.2 How to create a boolean array?"
      ],
      "metadata": {
        "id": "AfPAV9uOgghS"
      },
      "id": "AfPAV9uOgghS"
    },
    {
      "cell_type": "code",
      "execution_count": null,
      "id": "f0a3a933",
      "metadata": {
        "id": "f0a3a933",
        "colab": {
          "base_uri": "https://localhost:8080/"
        },
        "outputId": "48e350cd-a01c-41dc-f718-e3fd04b222e5"
      },
      "outputs": [
        {
          "output_type": "execute_result",
          "data": {
            "text/plain": [
              "array([[ True,  True,  True],\n",
              "       [ True,  True,  True],\n",
              "       [ True,  True,  True]])"
            ]
          },
          "metadata": {},
          "execution_count": 2
        }
      ],
      "source": [
        "# Create a 3×3 numpy array of all True’s\n",
        "np.ones((3,3),dtype=bool)\n"
      ]
    },
    {
      "cell_type": "markdown",
      "id": "48b23807",
      "metadata": {
        "id": "48b23807"
      },
      "source": [
        "## 4.3 How to extract items that satisfy a given condition from 1D array?"
      ]
    },
    {
      "cell_type": "code",
      "execution_count": null,
      "id": "3516780c",
      "metadata": {
        "id": "3516780c",
        "colab": {
          "base_uri": "https://localhost:8080/"
        },
        "outputId": "7f6ab7e0-e7c5-41ba-e239-9b3cb92b8bec"
      },
      "outputs": [
        {
          "output_type": "execute_result",
          "data": {
            "text/plain": [
              "array([1, 3, 5, 7, 9])"
            ]
          },
          "metadata": {},
          "execution_count": 3
        }
      ],
      "source": [
        "# Extract all odd numbers from arr\n",
        "arr = np.array([0, 1, 2, 3, 4, 5, 6, 7, 8, 9])\n",
        "\n",
        "arr[arr%2==1]"
      ]
    },
    {
      "cell_type": "code",
      "source": [
        "# Replace all odd numbers in arr with -1\n",
        "arr = np.array([0, 1, 2, 3, 4, 5, 6, 7, 8, 9])\n",
        "\n",
        "arr[arr%2==1]=-1"
      ],
      "metadata": {
        "colab": {
          "base_uri": "https://localhost:8080/"
        },
        "id": "hiSEzcn88tgL",
        "outputId": "9c23689f-807a-4002-84bc-a14aa9779ad5"
      },
      "id": "hiSEzcn88tgL",
      "execution_count": null,
      "outputs": [
        {
          "output_type": "execute_result",
          "data": {
            "text/plain": [
              "array([ 0, -1,  2, -1,  4, -1,  6, -1,  8, -1])"
            ]
          },
          "metadata": {},
          "execution_count": 5
        }
      ]
    },
    {
      "cell_type": "markdown",
      "id": "e58ce8b3",
      "metadata": {
        "id": "e58ce8b3"
      },
      "source": [
        "## 4.4 How to stack two arrays?"
      ]
    },
    {
      "cell_type": "code",
      "source": [
        "# Stack arrays a and b vertically\n",
        "a = np.arange(10).reshape(2,5)\n",
        "b = np.repeat(1, 10).reshape(2,5)\n",
        "\n",
        "# method1\n",
        "np.vstack([a,b])\n",
        "# method2\n",
        "np.concatenate([a,b],axis=0)"
      ],
      "metadata": {
        "colab": {
          "base_uri": "https://localhost:8080/"
        },
        "id": "pSk2_kvJ9owR",
        "outputId": "24942a38-6160-4925-ea91-f2babc022d1e"
      },
      "id": "pSk2_kvJ9owR",
      "execution_count": null,
      "outputs": [
        {
          "output_type": "execute_result",
          "data": {
            "text/plain": [
              "array([[0, 1, 2, 3, 4],\n",
              "       [5, 6, 7, 8, 9],\n",
              "       [1, 1, 1, 1, 1],\n",
              "       [1, 1, 1, 1, 1]])"
            ]
          },
          "metadata": {},
          "execution_count": 9
        }
      ]
    },
    {
      "cell_type": "code",
      "source": [
        "# Stack the arrays a and b horizontally.\n",
        "a = np.arange(10).reshape(2,-1)\n",
        "b = np.repeat(1, 10).reshape(2,-1)\n",
        "\n",
        "# method1\n",
        "np.hstack([a,b])\n",
        "# method2\n",
        "np.concatenate([a,b],axis=1)"
      ],
      "metadata": {
        "colab": {
          "base_uri": "https://localhost:8080/"
        },
        "id": "9kkE4J1y-Di9",
        "outputId": "cb36ab79-e282-4e00-9819-6ab1f75a961a"
      },
      "id": "9kkE4J1y-Di9",
      "execution_count": null,
      "outputs": [
        {
          "output_type": "execute_result",
          "data": {
            "text/plain": [
              "array([[0, 1, 2, 3, 4, 1, 1, 1, 1, 1],\n",
              "       [5, 6, 7, 8, 9, 1, 1, 1, 1, 1]])"
            ]
          },
          "metadata": {},
          "execution_count": 10
        }
      ]
    },
    {
      "cell_type": "markdown",
      "source": [
        "## 4.5 How to get the common items between two python numpy arrays?"
      ],
      "metadata": {
        "id": "8wnUqj-xlVuv"
      },
      "id": "8wnUqj-xlVuv"
    },
    {
      "cell_type": "code",
      "source": [
        "# Get the common items between a and b\n",
        "a = np.array([1,2,3,2,3,4,3,4,5,6])\n",
        "b = np.array([7,2,10,2,7,4,9,4,9,8])\n",
        "\n",
        "np.intersect1d(a,b)"
      ],
      "metadata": {
        "id": "EBCwUZdhqpmJ",
        "colab": {
          "base_uri": "https://localhost:8080/"
        },
        "outputId": "b7b9eeb4-30aa-4d43-b9c0-eb0b442c732e"
      },
      "id": "EBCwUZdhqpmJ",
      "execution_count": null,
      "outputs": [
        {
          "output_type": "execute_result",
          "data": {
            "text/plain": [
              "array([2, 4])"
            ]
          },
          "metadata": {},
          "execution_count": 11
        }
      ]
    },
    {
      "cell_type": "markdown",
      "source": [
        "### 4.6 How to remove from one array those items that exist in another?"
      ],
      "metadata": {
        "id": "jWZGC5BPxVV7"
      },
      "id": "jWZGC5BPxVV7"
    },
    {
      "cell_type": "code",
      "source": [
        "# From array a remove all items present in array b\n",
        "a = np.array([1,2,3,4,5])\n",
        "b = np.array([5,6,7,8,9])\n",
        "\n",
        "np.setdiff1d(a,b)"
      ],
      "metadata": {
        "id": "Gt7JlGVZxihN"
      },
      "id": "Gt7JlGVZxihN",
      "execution_count": null,
      "outputs": []
    },
    {
      "cell_type": "markdown",
      "source": [
        "### 4.7 How to get the positions where elements of two arrays match?"
      ],
      "metadata": {
        "id": "3lLGVWu6_frN"
      },
      "id": "3lLGVWu6_frN"
    },
    {
      "cell_type": "code",
      "source": [
        "# Get the positions where elements of a and b match\n",
        "a = np.array([1,2,3,2,3,4,3,4,5,6])\n",
        "b = np.array([7,2,10,2,7,4,9,4,9,8])\n",
        "\n",
        "np.where(a==b)        ## confirm the output of where method"
      ],
      "metadata": {
        "colab": {
          "base_uri": "https://localhost:8080/"
        },
        "id": "LhajBTNe_kME",
        "outputId": "4a8905d3-38af-4e43-ecac-8283067770af"
      },
      "id": "LhajBTNe_kME",
      "execution_count": null,
      "outputs": [
        {
          "output_type": "execute_result",
          "data": {
            "text/plain": [
              "(array([1, 3, 5, 7]),)"
            ]
          },
          "metadata": {},
          "execution_count": 13
        }
      ]
    },
    {
      "cell_type": "markdown",
      "source": [
        "### 4.8 How to extract all numbers between a given range from a numpy array?"
      ],
      "metadata": {
        "id": "7wo5ub2r_rTB"
      },
      "id": "7wo5ub2r_rTB"
    },
    {
      "cell_type": "code",
      "source": [
        "# Get all items between 5 and 10 from a.\n",
        "a = np.arange(15)\n",
        "\n",
        "# method 1\n",
        "a[(a>=5) & (a<=10)]\n",
        "\n",
        "# method 2\n",
        "index=np.where((a>=5) & (a<=10))\n",
        "a[index]"
      ],
      "metadata": {
        "colab": {
          "base_uri": "https://localhost:8080/"
        },
        "id": "oKCGZcWd_vOi",
        "outputId": "c286950e-dd75-4c80-f800-8225f48b2dda"
      },
      "id": "oKCGZcWd_vOi",
      "execution_count": null,
      "outputs": [
        {
          "output_type": "execute_result",
          "data": {
            "text/plain": [
              "array([ 5,  6,  7,  8,  9, 10])"
            ]
          },
          "metadata": {},
          "execution_count": 14
        }
      ]
    },
    {
      "cell_type": "markdown",
      "source": [
        "### 4.9 How to swap two rows/columns in a 2d numpy array?"
      ],
      "metadata": {
        "id": "RGdM0b4AAE28"
      },
      "id": "RGdM0b4AAE28"
    },
    {
      "cell_type": "code",
      "source": [
        "# Swap columns 1st and 2nd in the array arr.\n",
        "arr = np.arange(9).reshape(3,3)\n",
        "\n",
        "arr[:,[1,0,2]]"
      ],
      "metadata": {
        "id": "VqctVZO6AQwV"
      },
      "id": "VqctVZO6AQwV",
      "execution_count": null,
      "outputs": []
    },
    {
      "cell_type": "code",
      "source": [
        "# Swap rows 1st and 2nd in the array arr:\n",
        "arr = np.arange(9).reshape(3,3)\n",
        "\n",
        "arr[[1,0,2],:]"
      ],
      "metadata": {
        "id": "ujgoM_DRAXKe"
      },
      "id": "ujgoM_DRAXKe",
      "execution_count": null,
      "outputs": []
    },
    {
      "cell_type": "markdown",
      "source": [
        "### 4.10 How to reverse the rows/columns of a 2D array?"
      ],
      "metadata": {
        "id": "XeZm0vONAle5"
      },
      "id": "XeZm0vONAle5"
    },
    {
      "cell_type": "code",
      "source": [
        "# Reverse the rows of a 2D array arr.\n",
        "arr = np.arange(9).reshape(3,3)\n",
        "\n",
        "arr[[2,1,0],:]\n",
        "\n",
        "arr[::-1,:]"
      ],
      "metadata": {
        "id": "_a8m6fW5ArjW"
      },
      "id": "_a8m6fW5ArjW",
      "execution_count": null,
      "outputs": []
    },
    {
      "cell_type": "code",
      "source": [
        "# How to reverse the columns of a 2D array?\n",
        "arr = np.arange(9).reshape(3,3)\n",
        "\n",
        "arr[:,::-1]"
      ],
      "metadata": {
        "id": "QZBhdGQqAyYN"
      },
      "id": "QZBhdGQqAyYN",
      "execution_count": null,
      "outputs": []
    },
    {
      "cell_type": "markdown",
      "source": [
        "# 4.11 How to replace all values greater than a given value to a given cutoff?"
      ],
      "metadata": {
        "id": "PhZMiSlVDUq-"
      },
      "id": "PhZMiSlVDUq-"
    },
    {
      "cell_type": "code",
      "source": [
        "# From the array a, replace all values greater than 30 to 30 and less than 10 to 10.\n",
        "np.set_printoptions(precision=2)\n",
        "np.random.seed(100)\n",
        "a = np.random.uniform(1,50, 20)\n",
        "\n",
        "# method 1\n",
        "np.clip(a,a_min=10,a_max=30)\n",
        "\n",
        "# method 2\n",
        "np.where(a<10,10,np.where(a>30,30,a))\n",
        "\n",
        "# method 3\n",
        "a[a<10]=10\n"
      ],
      "metadata": {
        "colab": {
          "base_uri": "https://localhost:8080/"
        },
        "id": "P5PuwzoFDYQ4",
        "outputId": "e2ff618a-e8ee-4a1d-f0fe-2d6ebea083b8"
      },
      "id": "P5PuwzoFDYQ4",
      "execution_count": null,
      "outputs": [
        {
          "output_type": "stream",
          "name": "stdout",
          "text": [
            "[27.63 14.64 21.8  30.   10.   10.   30.   30.   10.   29.18 30.   11.25\n",
            " 10.08 10.   11.77 30.   30.   10.   30.   14.43]\n"
          ]
        }
      ]
    },
    {
      "cell_type": "markdown",
      "source": [
        "# 4.12 How to convert an array of arrays into a flat 1d array?"
      ],
      "metadata": {
        "id": "BnS1-SkEEIcB"
      },
      "id": "BnS1-SkEEIcB"
    },
    {
      "cell_type": "code",
      "source": [
        "# Convert array_of_arrays into a flat linear 1d array.\n",
        "import numpy as np\n",
        "arr1 = np.arange(3,7)\n",
        "arr2 = np.arange(4,8)\n",
        "arr3 = np.arange(5,9)\n",
        "\n",
        "array_of_arrays = np.array([arr1, arr2, arr3])\n",
        "print('array_of_arrays: ', array_of_arrays)\n",
        "\n",
        "print(np.concatenate(array_of_arrays))\n",
        "print(array_of_arrays.flatten())"
      ],
      "metadata": {
        "id": "0CSvOE0QEMFp",
        "colab": {
          "base_uri": "https://localhost:8080/"
        },
        "outputId": "7640d103-8e7f-4640-eef1-38681b451a7f"
      },
      "id": "0CSvOE0QEMFp",
      "execution_count": null,
      "outputs": [
        {
          "output_type": "stream",
          "name": "stdout",
          "text": [
            "array_of_arrays:  [[3 4 5 6]\n",
            " [4 5 6 7]\n",
            " [5 6 7 8]]\n",
            "[3 4 5 6 4 5 6 7 5 6 7 8]\n",
            "[3 4 5 6 4 5 6 7 5 6 7 8]\n"
          ]
        }
      ]
    },
    {
      "cell_type": "markdown",
      "source": [
        "### 4.13 How to find the maximum value in each row of a numpy array 2d?"
      ],
      "metadata": {
        "id": "Hsw4sFBrGip_"
      },
      "id": "Hsw4sFBrGip_"
    },
    {
      "cell_type": "code",
      "source": [
        "# Compute the maximum for each row in the given array.\n",
        "\n",
        "np.random.seed(100)\n",
        "a = np.random.randint(1,10, [5,3])\n",
        "print(a)\n",
        "\n",
        "#method 1\n",
        "np.amax(a,axis=1)\n",
        "\n",
        "# method 2\n",
        "np.apply_along_axis(np.max,arr=a,axis=1)\n"
      ],
      "metadata": {
        "colab": {
          "base_uri": "https://localhost:8080/"
        },
        "id": "PZ-71r2OGlf7",
        "outputId": "fa8d981c-739c-40da-c9ff-3271e8e7abc4"
      },
      "id": "PZ-71r2OGlf7",
      "execution_count": null,
      "outputs": [
        {
          "output_type": "stream",
          "name": "stdout",
          "text": [
            "[[9 9 4]\n",
            " [8 8 1]\n",
            " [5 3 6]\n",
            " [3 3 3]\n",
            " [2 1 9]]\n"
          ]
        },
        {
          "output_type": "execute_result",
          "data": {
            "text/plain": [
              "array([9, 8, 6, 3, 9])"
            ]
          },
          "metadata": {},
          "execution_count": 8
        }
      ]
    },
    {
      "cell_type": "markdown",
      "source": [
        "### 4.14 How to compute the min-by-max for each row for a numpy array 2d?"
      ],
      "metadata": {
        "id": "lZDaIa6kGwv3"
      },
      "id": "lZDaIa6kGwv3"
    },
    {
      "cell_type": "code",
      "source": [
        "# Compute the min-by-max for each row for given 2d numpy array.\n",
        "\n",
        "np.random.seed(100)\n",
        "a = np.random.randint(1,10, [5,3])\n",
        "a\n",
        "\n",
        "np.apply_along_axis(lambda x:np.min(x)/np.max(x),arr=a,axis=1)"
      ],
      "metadata": {
        "colab": {
          "base_uri": "https://localhost:8080/"
        },
        "id": "3h9A3goMG0de",
        "outputId": "8519b239-233c-418d-b1de-7e3388c30560"
      },
      "id": "3h9A3goMG0de",
      "execution_count": null,
      "outputs": [
        {
          "output_type": "execute_result",
          "data": {
            "text/plain": [
              "array([0.44444444, 0.125     , 0.5       , 1.        , 0.11111111])"
            ]
          },
          "metadata": {},
          "execution_count": 11
        }
      ]
    },
    {
      "cell_type": "markdown",
      "source": [
        "### 4.15 How to drop all missing values from a numpy array?"
      ],
      "metadata": {
        "id": "9z2QR69bHF91"
      },
      "id": "9z2QR69bHF91"
    },
    {
      "cell_type": "code",
      "source": [
        "# Drop all nan values from a 1D numpy array\n",
        "a = np.array([1,2,3,np.nan,5,6,7,np.nan])\n",
        "\n",
        "a[~np.isnan(a)]"
      ],
      "metadata": {
        "colab": {
          "base_uri": "https://localhost:8080/"
        },
        "id": "W2fa_-9HHIvH",
        "outputId": "399497cb-8485-4794-8eee-bb73cbcf29dd"
      },
      "id": "W2fa_-9HHIvH",
      "execution_count": null,
      "outputs": [
        {
          "output_type": "execute_result",
          "data": {
            "text/plain": [
              "array([1., 2., 3., 5., 6., 7.])"
            ]
          },
          "metadata": {},
          "execution_count": 13
        }
      ]
    },
    {
      "cell_type": "markdown",
      "source": [
        "### 4.16 How to find the index of n'th repetition of an item in an array"
      ],
      "metadata": {
        "id": "DjQ3B392Hdjy"
      },
      "id": "DjQ3B392Hdjy"
    },
    {
      "cell_type": "code",
      "source": [
        "# Find the index of 5th repetition of number 1 in x.\n",
        "x = np.array([1, 2, 1, 1, 3, 4, 3, 1, 1, 2, 1, 1, 2])\n",
        "n = 5\n",
        "\n",
        "[i for i,v in enumerate(x) if v==1][n-1]\n"
      ],
      "metadata": {
        "id": "8g3Dx0ZTHgxt",
        "colab": {
          "base_uri": "https://localhost:8080/"
        },
        "outputId": "0cee3e9e-54f8-4972-df74-4647e52fbe1b"
      },
      "id": "8g3Dx0ZTHgxt",
      "execution_count": null,
      "outputs": [
        {
          "output_type": "execute_result",
          "data": {
            "text/plain": [
              "8"
            ]
          },
          "metadata": {},
          "execution_count": 14
        }
      ]
    }
  ],
  "metadata": {
    "kernelspec": {
      "display_name": "Python 3 (ipykernel)",
      "language": "python",
      "name": "python3"
    },
    "language_info": {
      "codemirror_mode": {
        "name": "ipython",
        "version": 3
      },
      "file_extension": ".py",
      "mimetype": "text/x-python",
      "name": "python",
      "nbconvert_exporter": "python",
      "pygments_lexer": "ipython3",
      "version": "3.10.9"
    },
    "colab": {
      "provenance": [],
      "include_colab_link": true
    }
  },
  "nbformat": 4,
  "nbformat_minor": 5
}